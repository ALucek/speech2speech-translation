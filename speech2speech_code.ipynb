{
 "cells": [
  {
   "cell_type": "markdown",
   "id": "416cb6e6-d4e3-4bf5-913c-1b68391483e1",
   "metadata": {},
   "source": [
    "# Real Time Speech to Translated Speech \n",
    "\n",
    "Translating my own voice into a different language, as I speak it!"
   ]
  },
  {
   "cell_type": "markdown",
   "id": "708354e3-fa52-4691-9d10-c6127347555b",
   "metadata": {},
   "source": [
    "---\n",
    "## OpenAI For Translation\n",
    "\n",
    "Using GPT-4-Turbo to quickly generate nuanced translations. Input for language and sentence in chain can be changed dynamically."
   ]
  },
  {
   "cell_type": "code",
   "execution_count": 1,
   "id": "bc837b48-1189-490e-a6b0-43c255c47117",
   "metadata": {},
   "outputs": [],
   "source": [
    "from langchain_openai import ChatOpenAI\n",
    "from langchain_core.runnables import RunnablePassthrough\n",
    "from langchain_core.output_parsers import StrOutputParser\n",
    "from langchain_core.prompts import ChatPromptTemplate\n",
    "\n",
    "translation_template = \"\"\"\n",
    "Translate the following sentence into {language}, return ONLY the translation, nothing else.\n",
    "\n",
    "Sentence: {sentence}\n",
    "\"\"\"\n",
    "\n",
    "output_parser = StrOutputParser()\n",
    "llm = ChatOpenAI(temperature=0.0, model=\"gpt-4-turbo\")\n",
    "translation_prompt = ChatPromptTemplate.from_template(translation_template)\n",
    "\n",
    "translation_chain = (\n",
    "    {\"language\": RunnablePassthrough(), \"sentence\": RunnablePassthrough()} \n",
    "    | translation_prompt\n",
    "    | llm\n",
    "    | output_parser\n",
    ")\n",
    "\n",
    "def translate(sentence, language=\"French\"):\n",
    "    data_input = {\"language\": language, \"sentence\": sentence}\n",
    "    translation = translation_chain.invoke(data_input)\n",
    "    return translation"
   ]
  },
  {
   "cell_type": "markdown",
   "id": "d0ad434a-25c9-475e-bc56-6ecee593e45b",
   "metadata": {},
   "source": [
    "---\n",
    "## ElevenLabs For Voice Cloning & Voice Synthesis\n",
    "\n",
    "Premade voice model on [ElevenLabs Service](https://elevenlabs.io/app/voice-lab), using Multilingual V2 Model for synthesis\n",
    "\n",
    "**Available Languages:** *Chinese, Korean, Dutch, Turkish, Swedish, Indonesian, Filipino, Japanese, Ukrainian, Greek, Czech, Finnish, Romanian, Russian, Danish, Bulgarian, Malay, Slovak, Croatian, Classic Arabic, Tamil, English, Polish, German, Spanish, French, Italian, Hindi and Portuguese*"
   ]
  },
  {
   "cell_type": "code",
   "execution_count": 2,
   "id": "73310fc1-ae0e-4943-bb42-f7a4e7e9ec30",
   "metadata": {},
   "outputs": [],
   "source": [
    "from elevenlabs.client import ElevenLabs\n",
    "from elevenlabs import play, stream\n",
    "\n",
    "client = ElevenLabs()\n",
    "\n",
    "def gen_dub(text):\n",
    "    print(\"Generating audio...\")\n",
    "    audio = client.generate(\n",
    "        text=text,\n",
    "        voice=\"\", # Insert voice model here!\n",
    "        model=\"eleven_multilingual_v2\"\n",
    "    )\n",
    "    play(audio)"
   ]
  },
  {
   "cell_type": "markdown",
   "id": "327f96ae-44fa-4c32-a2d2-8afc6cd1f4ad",
   "metadata": {},
   "source": [
    "---\n",
    "## AssemblyAI for Speech to Text Streaming\n",
    "\n",
    "AssemblyAI handles Streaming STT within their own platform. Inserting the above translation and voice generation functions within this workflow."
   ]
  },
  {
   "cell_type": "code",
   "execution_count": 3,
   "id": "2df7059d-7ecc-4ab7-a205-deb9ed4dd466",
   "metadata": {},
   "outputs": [],
   "source": [
    "import assemblyai as aai\n",
    "\n",
    "def on_open(session_opened: aai.RealtimeSessionOpened):\n",
    "  \"This function is called when the connection has been established.\"\n",
    "  print(\"Session ID:\", session_opened.session_id)\n",
    "\n",
    "def on_data(transcript: aai.RealtimeTranscript):\n",
    "  \"This function is called when a new transcript has been received.\"\n",
    "  if not transcript.text:\n",
    "    return\n",
    "\n",
    "  if isinstance(transcript, aai.RealtimeFinalTranscript):\n",
    "    print(transcript.text, end=\"\\r\\n\")\n",
    "    print(\"Translating...\")\n",
    "    translation = translate(str(transcript.text))\n",
    "    print(f\"Translation: {translation}\")\n",
    "    gen_dub(translation)\n",
    "  else:\n",
    "    print(transcript.text, end=\"\\r\")\n",
    "      \n",
    "def on_error(error: aai.RealtimeError):\n",
    "  \"This function is called when the connection has been closed.\"\n",
    "  print(\"An error occured:\", error)\n",
    "\n",
    "def on_close():\n",
    "  \"This function is called when the connection has been closed.\"\n",
    "  print(\"Closing Session\")\n",
    "\n",
    "transcriber = aai.RealtimeTranscriber(\n",
    "  on_data=on_data,\n",
    "  on_error=on_error,\n",
    "  sample_rate=44_100,\n",
    "  on_open=on_open, # optional\n",
    "  on_close=on_close, # optional\n",
    ")"
   ]
  },
  {
   "cell_type": "markdown",
   "id": "7a68af17-7eca-40a9-9e27-341232ffb5fe",
   "metadata": {},
   "source": [
    "---\n",
    "## Main Script\n",
    "\n",
    "(remember to change audio input/output in settings for airpods)"
   ]
  },
  {
   "cell_type": "code",
   "execution_count": 4,
   "id": "a79283c3-0f5f-48a1-8839-c4cb0bacf11b",
   "metadata": {},
   "outputs": [
    {
     "name": "stdout",
     "output_type": "stream",
     "text": [
      "Session ID: a106c406-94c5-4615-b1ce-710bbc070207\n",
      "So here's an example of putting it together and just having the translation into French happen.\n",
      "Translating...\n",
      "Translation: Voici donc un exemple de mise en œuvre et de réalisation de la traduction en français.\n",
      "Perfect. So, as you can see, my voice is being transcribed, and then you'll see it. Sort of pop a little bit into a more formatted thing, which is the final object, and. Then that is what's passed to GPT four turbo and translated.\n",
      "Translating...\n",
      "Translation: Parfait. Donc, comme vous pouvez le voir, ma voix est transcrise, et ensuite vous la verrez. Cela ressemble un peu à un passage vers quelque chose de plus formaté, qui est l'objet final, et. Ensuite, c'est ce qui est transmis à GPT quatre turbo et traduit.\n"
     ]
    }
   ],
   "source": [
    "# Start the connection, likely have to restart kernal (runs better as full code in something like VSCode)\n",
    "transcriber.connect()\n",
    "microphone_stream = aai.extras.MicrophoneStream()\n",
    "transcriber.stream(microphone_stream)"
   ]
  },
  {
   "cell_type": "code",
   "execution_count": 11,
   "id": "00514bb7-c8d0-4147-9cf6-eb479f3ad436",
   "metadata": {},
   "outputs": [
    {
     "name": "stdout",
     "output_type": "stream",
     "text": [
      "Closing Session\n"
     ]
    }
   ],
   "source": [
    "transcriber.close()"
   ]
  },
  {
   "cell_type": "code",
   "execution_count": null,
   "id": "731f6c9a-bf60-4f2c-8879-791494eae744",
   "metadata": {},
   "outputs": [],
   "source": []
  }
 ],
 "metadata": {
  "kernelspec": {
   "display_name": "Python 3 (ipykernel)",
   "language": "python",
   "name": "python3"
  },
  "language_info": {
   "codemirror_mode": {
    "name": "ipython",
    "version": 3
   },
   "file_extension": ".py",
   "mimetype": "text/x-python",
   "name": "python",
   "nbconvert_exporter": "python",
   "pygments_lexer": "ipython3",
   "version": "3.12.1"
  }
 },
 "nbformat": 4,
 "nbformat_minor": 5
}
